{
  "nbformat": 4,
  "nbformat_minor": 0,
  "metadata": {
    "colab": {
      "provenance": []
    },
    "kernelspec": {
      "name": "python3",
      "display_name": "Python 3"
    },
    "language_info": {
      "name": "python"
    }
  },
  "cells": [
    {
      "cell_type": "code",
      "execution_count": 1,
      "metadata": {
        "id": "E9vEP--crPK5"
      },
      "outputs": [],
      "source": [
        "import pandas as pd\n",
        "import numpy as np\n",
        "from sklearn.preprocessing import LabelEncoder, MinMaxScaler\n",
        "from sklearn.model_selection import train_test_split\n",
        "import tensorflow.keras as keras\n",
        "from tensorflow.keras.models import Sequential\n",
        "from tensorflow.keras.layers import Dense, Dropout"
      ]
    },
    {
      "cell_type": "code",
      "source": [
        "#Read the dataset file\n",
        "data = pd.read_csv('/content/Iris.csv', index_col = 0)"
      ],
      "metadata": {
        "id": "utnB7Jm0rX5f"
      },
      "execution_count": 2,
      "outputs": []
    },
    {
      "cell_type": "code",
      "source": [
        "from google.colab import drive\n",
        "drive.mount('/content/drive')"
      ],
      "metadata": {
        "colab": {
          "base_uri": "https://localhost:8080/"
        },
        "id": "PhY55N6krauS",
        "outputId": "837da2ae-2dbb-43df-b087-c288cda97bda"
      },
      "execution_count": 3,
      "outputs": [
        {
          "output_type": "stream",
          "name": "stdout",
          "text": [
            "Mounted at /content/drive\n"
          ]
        }
      ]
    },
    {
      "cell_type": "code",
      "source": [
        "#Display the first five rows of the dataframe\n",
        "print(data.head())"
      ],
      "metadata": {
        "colab": {
          "base_uri": "https://localhost:8080/"
        },
        "id": "5hcWzwKtsgND",
        "outputId": "04124c0e-2d8c-4fe3-f4b9-7448c28807d3"
      },
      "execution_count": 4,
      "outputs": [
        {
          "output_type": "stream",
          "name": "stdout",
          "text": [
            "    SepalLengthCm  SepalWidthCm  PetalLengthCm  PetalWidthCm      Species\n",
            "Id                                                                       \n",
            "1             5.1           3.5            1.4           0.2  Iris-setosa\n",
            "2             4.9           3.0            1.4           0.2  Iris-setosa\n",
            "3             4.7           3.2            1.3           0.2  Iris-setosa\n",
            "4             4.6           3.1            1.5           0.2  Iris-setosa\n",
            "5             5.0           3.6            1.4           0.2  Iris-setosa\n"
          ]
        }
      ]
    },
    {
      "cell_type": "code",
      "source": [
        "#Displaying the information of the dataframe\n",
        "print(data.info())"
      ],
      "metadata": {
        "colab": {
          "base_uri": "https://localhost:8080/"
        },
        "id": "UtD7OfZaskFG",
        "outputId": "fd0bde5c-2006-42bc-fb57-411b33cd3301"
      },
      "execution_count": 5,
      "outputs": [
        {
          "output_type": "stream",
          "name": "stdout",
          "text": [
            "<class 'pandas.core.frame.DataFrame'>\n",
            "Int64Index: 150 entries, 1 to 150\n",
            "Data columns (total 5 columns):\n",
            " #   Column         Non-Null Count  Dtype  \n",
            "---  ------         --------------  -----  \n",
            " 0   SepalLengthCm  150 non-null    float64\n",
            " 1   SepalWidthCm   150 non-null    float64\n",
            " 2   PetalLengthCm  150 non-null    float64\n",
            " 3   PetalWidthCm   150 non-null    float64\n",
            " 4   Species        150 non-null    object \n",
            "dtypes: float64(4), object(1)\n",
            "memory usage: 7.0+ KB\n",
            "None\n"
          ]
        }
      ]
    },
    {
      "cell_type": "code",
      "source": [
        "print(data.shape)"
      ],
      "metadata": {
        "colab": {
          "base_uri": "https://localhost:8080/"
        },
        "id": "VSM-Ty1csobU",
        "outputId": "23130adf-42f2-4b64-972c-80ffff20d13b"
      },
      "execution_count": 6,
      "outputs": [
        {
          "output_type": "stream",
          "name": "stdout",
          "text": [
            "(150, 5)\n"
          ]
        }
      ]
    },
    {
      "cell_type": "code",
      "source": [
        "# check there is no null values and check for missing values\n",
        "print(data.isna().sum())"
      ],
      "metadata": {
        "colab": {
          "base_uri": "https://localhost:8080/"
        },
        "id": "9yo-P8cMssVl",
        "outputId": "dd601aa9-0232-4f0b-a7d2-260f5596f088"
      },
      "execution_count": 7,
      "outputs": [
        {
          "output_type": "stream",
          "name": "stdout",
          "text": [
            "SepalLengthCm    0\n",
            "SepalWidthCm     0\n",
            "PetalLengthCm    0\n",
            "PetalWidthCm     0\n",
            "Species          0\n",
            "dtype: int64\n"
          ]
        }
      ]
    },
    {
      "cell_type": "code",
      "source": [
        "#Check for duplicates\n",
        "print(data.duplicated(keep = False).value_counts())\n",
        "print(data[data.duplicated(keep = False)])"
      ],
      "metadata": {
        "colab": {
          "base_uri": "https://localhost:8080/"
        },
        "id": "73gMqrEhswCN",
        "outputId": "c5bae1ce-bbda-435a-9e7b-bac09a431e60"
      },
      "execution_count": 8,
      "outputs": [
        {
          "output_type": "stream",
          "name": "stdout",
          "text": [
            "False    145\n",
            "True       5\n",
            "dtype: int64\n",
            "     SepalLengthCm  SepalWidthCm  PetalLengthCm  PetalWidthCm         Species\n",
            "Id                                                                           \n",
            "10             4.9           3.1            1.5           0.1     Iris-setosa\n",
            "35             4.9           3.1            1.5           0.1     Iris-setosa\n",
            "38             4.9           3.1            1.5           0.1     Iris-setosa\n",
            "102            5.8           2.7            5.1           1.9  Iris-virginica\n",
            "143            5.8           2.7            5.1           1.9  Iris-virginica\n"
          ]
        }
      ]
    },
    {
      "cell_type": "code",
      "source": [
        "#Drop duplicates\n",
        "data = data.drop_duplicates(keep = 'first').copy()\n",
        "print(data.shape)"
      ],
      "metadata": {
        "colab": {
          "base_uri": "https://localhost:8080/"
        },
        "id": "GnkeZieqszdw",
        "outputId": "863165b0-da13-4553-e2fe-d9d2df454b62"
      },
      "execution_count": 9,
      "outputs": [
        {
          "output_type": "stream",
          "name": "stdout",
          "text": [
            "(147, 5)\n"
          ]
        }
      ]
    },
    {
      "cell_type": "code",
      "source": [
        "#Reset the index of the dataframe\n",
        "\n",
        "data = data.reset_index(drop = True)"
      ],
      "metadata": {
        "id": "PtGQNjWTs5X3"
      },
      "execution_count": 10,
      "outputs": []
    },
    {
      "cell_type": "code",
      "source": [
        "#Split the dataframe into X(features) and y(target or labels)\n",
        "X = data.iloc[:, 0:4].values\n",
        "y = data['Species'].values"
      ],
      "metadata": {
        "id": "avh6RAK-s9Z7"
      },
      "execution_count": 11,
      "outputs": []
    },
    {
      "cell_type": "code",
      "source": [
        "print(X.shape)\n",
        "print(y.shape)"
      ],
      "metadata": {
        "colab": {
          "base_uri": "https://localhost:8080/"
        },
        "id": "z32YZiW0s_-N",
        "outputId": "80386854-2d01-429f-ae2f-b34cd9e89052"
      },
      "execution_count": 12,
      "outputs": [
        {
          "output_type": "stream",
          "name": "stdout",
          "text": [
            "(147, 4)\n",
            "(147,)\n"
          ]
        }
      ]
    },
    {
      "cell_type": "code",
      "source": [
        "#Normalization on X\n",
        "scaler = MinMaxScaler()\n",
        "scaler.fit(X)\n",
        "X_scaled = scaler.fit_transform(X)\n"
      ],
      "metadata": {
        "id": "i5EnK1bJtDke"
      },
      "execution_count": 13,
      "outputs": []
    },
    {
      "cell_type": "code",
      "source": [
        "#Convert target using LabelEncoder\n",
        "encoder = LabelEncoder()\n",
        "y_encoded = encoder.fit_transform(y)"
      ],
      "metadata": {
        "id": "BB7_Qbc9tGzI"
      },
      "execution_count": 14,
      "outputs": []
    },
    {
      "cell_type": "code",
      "source": [
        "#Categorically encoding the labels\n",
        "\n",
        "num_categories = 3\n",
        "y_onehot = keras.utils.to_categorical(y_encoded, num_categories)"
      ],
      "metadata": {
        "id": "SlsA1cljtKC_"
      },
      "execution_count": 15,
      "outputs": []
    },
    {
      "cell_type": "code",
      "source": [
        "#convert X_scaled and y_onehot into train and valid data\n",
        "\n",
        "X_train, X_valid, y_train, y_valid = train_test_split(X_scaled, y_onehot,\n",
        "                                                     test_size = 0.2,\n",
        "                                                     random_state = 42)"
      ],
      "metadata": {
        "id": "8E0FAZTctNSn"
      },
      "execution_count": 16,
      "outputs": []
    },
    {
      "cell_type": "code",
      "source": [
        "#Define a model\n",
        "\n",
        "model = Sequential()\n",
        "model.add(Dense(units = 512, activation = 'relu', input_shape = (4,)))\n",
        "model.add(Dense(units = 512, activation = 'relu'))\n",
        "model.add(Dense(units = 512, activation = 'relu'))\n",
        "model.add(Dropout(0.2))\n",
        "model.add(Dense(units = num_categories, activation = 'softmax'))"
      ],
      "metadata": {
        "id": "BxByZfYrtQgh"
      },
      "execution_count": 17,
      "outputs": []
    },
    {
      "cell_type": "code",
      "source": [
        "model.summary()"
      ],
      "metadata": {
        "colab": {
          "base_uri": "https://localhost:8080/"
        },
        "id": "s0W3hZKDtUEJ",
        "outputId": "1151e940-6398-4591-d47b-233dc3b2b79f"
      },
      "execution_count": 18,
      "outputs": [
        {
          "output_type": "stream",
          "name": "stdout",
          "text": [
            "Model: \"sequential\"\n",
            "_________________________________________________________________\n",
            " Layer (type)                Output Shape              Param #   \n",
            "=================================================================\n",
            " dense (Dense)               (None, 512)               2560      \n",
            "                                                                 \n",
            " dense_1 (Dense)             (None, 512)               262656    \n",
            "                                                                 \n",
            " dense_2 (Dense)             (None, 512)               262656    \n",
            "                                                                 \n",
            " dropout (Dropout)           (None, 512)               0         \n",
            "                                                                 \n",
            " dense_3 (Dense)             (None, 3)                 1539      \n",
            "                                                                 \n",
            "=================================================================\n",
            "Total params: 529411 (2.02 MB)\n",
            "Trainable params: 529411 (2.02 MB)\n",
            "Non-trainable params: 0 (0.00 Byte)\n",
            "_________________________________________________________________\n"
          ]
        }
      ]
    },
    {
      "cell_type": "code",
      "source": [
        "#Compiling the model\n",
        "\n",
        "model.compile(loss = 'categorical_crossentropy', metrics = ['accuracy'])"
      ],
      "metadata": {
        "id": "P7v-avMHtXqD"
      },
      "execution_count": 19,
      "outputs": []
    },
    {
      "cell_type": "code",
      "source": [
        "history=model.fit(X_train, y_train,\n",
        "          epochs = 100,\n",
        "          verbose = 1,\n",
        "          validation_data = (X_valid, y_valid))"
      ],
      "metadata": {
        "colab": {
          "base_uri": "https://localhost:8080/"
        },
        "id": "Cdzou4i4taWS",
        "outputId": "310aef02-c9d5-4aa1-8ec7-2bd022b1416c"
      },
      "execution_count": 20,
      "outputs": [
        {
          "output_type": "stream",
          "name": "stdout",
          "text": [
            "Epoch 1/100\n",
            "4/4 [==============================] - 1s 91ms/step - loss: 0.9955 - accuracy: 0.4786 - val_loss: 0.8503 - val_accuracy: 0.6667\n",
            "Epoch 2/100\n",
            "4/4 [==============================] - 0s 22ms/step - loss: 0.7158 - accuracy: 0.6667 - val_loss: 0.5462 - val_accuracy: 0.7000\n",
            "Epoch 3/100\n",
            "4/4 [==============================] - 0s 19ms/step - loss: 0.5701 - accuracy: 0.6667 - val_loss: 0.4642 - val_accuracy: 0.6667\n",
            "Epoch 4/100\n",
            "4/4 [==============================] - 0s 20ms/step - loss: 0.4827 - accuracy: 0.7179 - val_loss: 0.4787 - val_accuracy: 0.6667\n",
            "Epoch 5/100\n",
            "4/4 [==============================] - 0s 27ms/step - loss: 0.4441 - accuracy: 0.7521 - val_loss: 0.4110 - val_accuracy: 0.7000\n",
            "Epoch 6/100\n",
            "4/4 [==============================] - 0s 20ms/step - loss: 0.4568 - accuracy: 0.7521 - val_loss: 0.3692 - val_accuracy: 0.9000\n",
            "Epoch 7/100\n",
            "4/4 [==============================] - 0s 19ms/step - loss: 0.3538 - accuracy: 0.8889 - val_loss: 0.3522 - val_accuracy: 0.8667\n",
            "Epoch 8/100\n",
            "4/4 [==============================] - 0s 23ms/step - loss: 0.3448 - accuracy: 0.8376 - val_loss: 0.5306 - val_accuracy: 0.6667\n",
            "Epoch 9/100\n",
            "4/4 [==============================] - 0s 20ms/step - loss: 0.3534 - accuracy: 0.8034 - val_loss: 0.4259 - val_accuracy: 0.7333\n",
            "Epoch 10/100\n",
            "4/4 [==============================] - 0s 20ms/step - loss: 0.4502 - accuracy: 0.7179 - val_loss: 0.2989 - val_accuracy: 0.8667\n",
            "Epoch 11/100\n",
            "4/4 [==============================] - 0s 20ms/step - loss: 0.2801 - accuracy: 0.8974 - val_loss: 0.2820 - val_accuracy: 0.9000\n",
            "Epoch 12/100\n",
            "4/4 [==============================] - 0s 19ms/step - loss: 0.2505 - accuracy: 0.9145 - val_loss: 0.3183 - val_accuracy: 0.8667\n",
            "Epoch 13/100\n",
            "4/4 [==============================] - 0s 19ms/step - loss: 0.2111 - accuracy: 0.9487 - val_loss: 0.3452 - val_accuracy: 0.7667\n",
            "Epoch 14/100\n",
            "4/4 [==============================] - 0s 20ms/step - loss: 0.2795 - accuracy: 0.8462 - val_loss: 0.3349 - val_accuracy: 0.8667\n",
            "Epoch 15/100\n",
            "4/4 [==============================] - 0s 30ms/step - loss: 0.3538 - accuracy: 0.8376 - val_loss: 0.2589 - val_accuracy: 0.9000\n",
            "Epoch 16/100\n",
            "4/4 [==============================] - 0s 34ms/step - loss: 0.1779 - accuracy: 0.9487 - val_loss: 0.2097 - val_accuracy: 0.9000\n",
            "Epoch 17/100\n",
            "4/4 [==============================] - 0s 28ms/step - loss: 0.1580 - accuracy: 0.9573 - val_loss: 0.2358 - val_accuracy: 0.9000\n",
            "Epoch 18/100\n",
            "4/4 [==============================] - 0s 32ms/step - loss: 0.2412 - accuracy: 0.8974 - val_loss: 0.2392 - val_accuracy: 0.9000\n",
            "Epoch 19/100\n",
            "4/4 [==============================] - 0s 40ms/step - loss: 0.1781 - accuracy: 0.9145 - val_loss: 0.4100 - val_accuracy: 0.8000\n",
            "Epoch 20/100\n",
            "4/4 [==============================] - 0s 27ms/step - loss: 0.2418 - accuracy: 0.8889 - val_loss: 0.2069 - val_accuracy: 0.9333\n",
            "Epoch 21/100\n",
            "4/4 [==============================] - 0s 27ms/step - loss: 0.1224 - accuracy: 0.9658 - val_loss: 0.1801 - val_accuracy: 0.9000\n",
            "Epoch 22/100\n",
            "4/4 [==============================] - 0s 27ms/step - loss: 0.1696 - accuracy: 0.9145 - val_loss: 0.1705 - val_accuracy: 0.9000\n",
            "Epoch 23/100\n",
            "4/4 [==============================] - 0s 27ms/step - loss: 0.1243 - accuracy: 0.9573 - val_loss: 0.5448 - val_accuracy: 0.8000\n",
            "Epoch 24/100\n",
            "4/4 [==============================] - 0s 33ms/step - loss: 0.2050 - accuracy: 0.9060 - val_loss: 0.1729 - val_accuracy: 0.9333\n",
            "Epoch 25/100\n",
            "4/4 [==============================] - 0s 28ms/step - loss: 0.0996 - accuracy: 0.9658 - val_loss: 0.3952 - val_accuracy: 0.8000\n",
            "Epoch 26/100\n",
            "4/4 [==============================] - 0s 28ms/step - loss: 0.2224 - accuracy: 0.9145 - val_loss: 0.6000 - val_accuracy: 0.7667\n",
            "Epoch 27/100\n",
            "4/4 [==============================] - 0s 28ms/step - loss: 0.1742 - accuracy: 0.9402 - val_loss: 0.2141 - val_accuracy: 0.9333\n",
            "Epoch 28/100\n",
            "4/4 [==============================] - 0s 30ms/step - loss: 0.0856 - accuracy: 0.9658 - val_loss: 0.2709 - val_accuracy: 0.9000\n",
            "Epoch 29/100\n",
            "4/4 [==============================] - 0s 31ms/step - loss: 0.1273 - accuracy: 0.9316 - val_loss: 0.3719 - val_accuracy: 0.8667\n",
            "Epoch 30/100\n",
            "4/4 [==============================] - 0s 34ms/step - loss: 0.2618 - accuracy: 0.9145 - val_loss: 0.1420 - val_accuracy: 0.9000\n",
            "Epoch 31/100\n",
            "4/4 [==============================] - 0s 38ms/step - loss: 0.1135 - accuracy: 0.9573 - val_loss: 0.1463 - val_accuracy: 0.9333\n",
            "Epoch 32/100\n",
            "4/4 [==============================] - 0s 35ms/step - loss: 0.1095 - accuracy: 0.9487 - val_loss: 0.1520 - val_accuracy: 0.9333\n",
            "Epoch 33/100\n",
            "4/4 [==============================] - 0s 30ms/step - loss: 0.1157 - accuracy: 0.9744 - val_loss: 0.1419 - val_accuracy: 0.9333\n",
            "Epoch 34/100\n",
            "4/4 [==============================] - 0s 136ms/step - loss: 0.0851 - accuracy: 0.9658 - val_loss: 0.1645 - val_accuracy: 0.9000\n",
            "Epoch 35/100\n",
            "4/4 [==============================] - 0s 89ms/step - loss: 0.1228 - accuracy: 0.9573 - val_loss: 0.2909 - val_accuracy: 0.9000\n",
            "Epoch 36/100\n",
            "4/4 [==============================] - 0s 34ms/step - loss: 0.1188 - accuracy: 0.9487 - val_loss: 0.2617 - val_accuracy: 0.9333\n",
            "Epoch 37/100\n",
            "4/4 [==============================] - 0s 27ms/step - loss: 0.0770 - accuracy: 0.9573 - val_loss: 0.2508 - val_accuracy: 0.9333\n",
            "Epoch 38/100\n",
            "4/4 [==============================] - 0s 27ms/step - loss: 0.1938 - accuracy: 0.8974 - val_loss: 0.4124 - val_accuracy: 0.8333\n",
            "Epoch 39/100\n",
            "4/4 [==============================] - 0s 32ms/step - loss: 0.1192 - accuracy: 0.9744 - val_loss: 0.1669 - val_accuracy: 0.9333\n",
            "Epoch 40/100\n",
            "4/4 [==============================] - 0s 31ms/step - loss: 0.0645 - accuracy: 0.9658 - val_loss: 0.1349 - val_accuracy: 0.9000\n",
            "Epoch 41/100\n",
            "4/4 [==============================] - 0s 29ms/step - loss: 0.1764 - accuracy: 0.9316 - val_loss: 0.2359 - val_accuracy: 0.9333\n",
            "Epoch 42/100\n",
            "4/4 [==============================] - 0s 34ms/step - loss: 0.0655 - accuracy: 0.9744 - val_loss: 0.2285 - val_accuracy: 0.9000\n",
            "Epoch 43/100\n",
            "4/4 [==============================] - 0s 28ms/step - loss: 0.1649 - accuracy: 0.9402 - val_loss: 0.1186 - val_accuracy: 0.9333\n",
            "Epoch 44/100\n",
            "4/4 [==============================] - 0s 30ms/step - loss: 0.0694 - accuracy: 0.9829 - val_loss: 0.1182 - val_accuracy: 0.9333\n",
            "Epoch 45/100\n",
            "4/4 [==============================] - 0s 33ms/step - loss: 0.1323 - accuracy: 0.9573 - val_loss: 0.1938 - val_accuracy: 0.9333\n",
            "Epoch 46/100\n",
            "4/4 [==============================] - 0s 27ms/step - loss: 0.0747 - accuracy: 0.9658 - val_loss: 0.1811 - val_accuracy: 0.9333\n",
            "Epoch 47/100\n",
            "4/4 [==============================] - 0s 33ms/step - loss: 0.1552 - accuracy: 0.9231 - val_loss: 0.2731 - val_accuracy: 0.9333\n",
            "Epoch 48/100\n",
            "4/4 [==============================] - 0s 28ms/step - loss: 0.0673 - accuracy: 0.9658 - val_loss: 0.1450 - val_accuracy: 0.9333\n",
            "Epoch 49/100\n",
            "4/4 [==============================] - 0s 30ms/step - loss: 0.1554 - accuracy: 0.9316 - val_loss: 0.7905 - val_accuracy: 0.7667\n",
            "Epoch 50/100\n",
            "4/4 [==============================] - 0s 32ms/step - loss: 0.2736 - accuracy: 0.8889 - val_loss: 0.1752 - val_accuracy: 0.9333\n",
            "Epoch 51/100\n",
            "4/4 [==============================] - 0s 37ms/step - loss: 0.0601 - accuracy: 0.9744 - val_loss: 0.1677 - val_accuracy: 0.9333\n",
            "Epoch 52/100\n",
            "4/4 [==============================] - 0s 33ms/step - loss: 0.0554 - accuracy: 0.9829 - val_loss: 0.1076 - val_accuracy: 0.9333\n",
            "Epoch 53/100\n",
            "4/4 [==============================] - 0s 27ms/step - loss: 0.0694 - accuracy: 0.9573 - val_loss: 0.2388 - val_accuracy: 0.9333\n",
            "Epoch 54/100\n",
            "4/4 [==============================] - 0s 31ms/step - loss: 0.0621 - accuracy: 0.9744 - val_loss: 0.1132 - val_accuracy: 0.9000\n",
            "Epoch 55/100\n",
            "4/4 [==============================] - 0s 28ms/step - loss: 0.0458 - accuracy: 0.9829 - val_loss: 0.1236 - val_accuracy: 0.9333\n",
            "Epoch 56/100\n",
            "4/4 [==============================] - 0s 27ms/step - loss: 0.0646 - accuracy: 0.9658 - val_loss: 0.3863 - val_accuracy: 0.8667\n",
            "Epoch 57/100\n",
            "4/4 [==============================] - 0s 33ms/step - loss: 0.0860 - accuracy: 0.9744 - val_loss: 0.1099 - val_accuracy: 0.9667\n",
            "Epoch 58/100\n",
            "4/4 [==============================] - 0s 30ms/step - loss: 0.0760 - accuracy: 0.9744 - val_loss: 0.1028 - val_accuracy: 0.9333\n",
            "Epoch 59/100\n",
            "4/4 [==============================] - 0s 32ms/step - loss: 0.0915 - accuracy: 0.9573 - val_loss: 0.1446 - val_accuracy: 0.9333\n",
            "Epoch 60/100\n",
            "4/4 [==============================] - 0s 39ms/step - loss: 0.0448 - accuracy: 0.9829 - val_loss: 0.2876 - val_accuracy: 0.9000\n",
            "Epoch 61/100\n",
            "4/4 [==============================] - 0s 38ms/step - loss: 0.0875 - accuracy: 0.9658 - val_loss: 0.2419 - val_accuracy: 0.9333\n",
            "Epoch 62/100\n",
            "4/4 [==============================] - 0s 32ms/step - loss: 0.1069 - accuracy: 0.9573 - val_loss: 0.2421 - val_accuracy: 0.9333\n",
            "Epoch 63/100\n",
            "4/4 [==============================] - 0s 35ms/step - loss: 0.0721 - accuracy: 0.9744 - val_loss: 0.1224 - val_accuracy: 0.9667\n",
            "Epoch 64/100\n",
            "4/4 [==============================] - 0s 32ms/step - loss: 0.0919 - accuracy: 0.9658 - val_loss: 0.2982 - val_accuracy: 0.9333\n",
            "Epoch 65/100\n",
            "4/4 [==============================] - 0s 28ms/step - loss: 0.0784 - accuracy: 0.9658 - val_loss: 0.1729 - val_accuracy: 0.9333\n",
            "Epoch 66/100\n",
            "4/4 [==============================] - 0s 35ms/step - loss: 0.0382 - accuracy: 0.9915 - val_loss: 0.1024 - val_accuracy: 0.9667\n",
            "Epoch 67/100\n",
            "4/4 [==============================] - 0s 33ms/step - loss: 0.1280 - accuracy: 0.9573 - val_loss: 0.4722 - val_accuracy: 0.8000\n",
            "Epoch 68/100\n",
            "4/4 [==============================] - 0s 43ms/step - loss: 0.1196 - accuracy: 0.9487 - val_loss: 0.1067 - val_accuracy: 0.9333\n",
            "Epoch 69/100\n",
            "4/4 [==============================] - 0s 34ms/step - loss: 0.0843 - accuracy: 0.9658 - val_loss: 0.1202 - val_accuracy: 0.9333\n",
            "Epoch 70/100\n",
            "4/4 [==============================] - 0s 40ms/step - loss: 0.0418 - accuracy: 0.9829 - val_loss: 0.1119 - val_accuracy: 0.9333\n",
            "Epoch 71/100\n",
            "4/4 [==============================] - 0s 31ms/step - loss: 0.0582 - accuracy: 0.9658 - val_loss: 0.1166 - val_accuracy: 0.9333\n",
            "Epoch 72/100\n",
            "4/4 [==============================] - 0s 36ms/step - loss: 0.0386 - accuracy: 0.9915 - val_loss: 0.1810 - val_accuracy: 0.9000\n",
            "Epoch 73/100\n",
            "4/4 [==============================] - 0s 38ms/step - loss: 0.2208 - accuracy: 0.9316 - val_loss: 0.1221 - val_accuracy: 0.9333\n",
            "Epoch 74/100\n",
            "4/4 [==============================] - 0s 27ms/step - loss: 0.0615 - accuracy: 0.9744 - val_loss: 0.1207 - val_accuracy: 0.9667\n",
            "Epoch 75/100\n",
            "4/4 [==============================] - 0s 29ms/step - loss: 0.0580 - accuracy: 0.9829 - val_loss: 0.2076 - val_accuracy: 0.9333\n",
            "Epoch 76/100\n",
            "4/4 [==============================] - 0s 29ms/step - loss: 0.0933 - accuracy: 0.9658 - val_loss: 0.1668 - val_accuracy: 0.9333\n",
            "Epoch 77/100\n",
            "4/4 [==============================] - 0s 22ms/step - loss: 0.0521 - accuracy: 0.9829 - val_loss: 0.1223 - val_accuracy: 0.9333\n",
            "Epoch 78/100\n",
            "4/4 [==============================] - 0s 28ms/step - loss: 0.1079 - accuracy: 0.9402 - val_loss: 0.1015 - val_accuracy: 0.9333\n",
            "Epoch 79/100\n",
            "4/4 [==============================] - 0s 28ms/step - loss: 0.0981 - accuracy: 0.9573 - val_loss: 0.2341 - val_accuracy: 0.9333\n",
            "Epoch 80/100\n",
            "4/4 [==============================] - 0s 30ms/step - loss: 0.0737 - accuracy: 0.9573 - val_loss: 0.0946 - val_accuracy: 0.9667\n",
            "Epoch 81/100\n",
            "4/4 [==============================] - 0s 25ms/step - loss: 0.0507 - accuracy: 0.9744 - val_loss: 0.1328 - val_accuracy: 0.9333\n",
            "Epoch 82/100\n",
            "4/4 [==============================] - 0s 29ms/step - loss: 0.0572 - accuracy: 0.9744 - val_loss: 0.1182 - val_accuracy: 0.9667\n",
            "Epoch 83/100\n",
            "4/4 [==============================] - 0s 26ms/step - loss: 0.1684 - accuracy: 0.9316 - val_loss: 0.1228 - val_accuracy: 0.9333\n",
            "Epoch 84/100\n",
            "4/4 [==============================] - 0s 27ms/step - loss: 0.0480 - accuracy: 0.9744 - val_loss: 0.1057 - val_accuracy: 0.9333\n",
            "Epoch 85/100\n",
            "4/4 [==============================] - 0s 28ms/step - loss: 0.0397 - accuracy: 0.9915 - val_loss: 0.1476 - val_accuracy: 0.9000\n",
            "Epoch 86/100\n",
            "4/4 [==============================] - 0s 32ms/step - loss: 0.0387 - accuracy: 0.9829 - val_loss: 0.0982 - val_accuracy: 0.9333\n",
            "Epoch 87/100\n",
            "4/4 [==============================] - 0s 22ms/step - loss: 0.0896 - accuracy: 0.9658 - val_loss: 0.2027 - val_accuracy: 0.9333\n",
            "Epoch 88/100\n",
            "4/4 [==============================] - 0s 23ms/step - loss: 0.0524 - accuracy: 0.9829 - val_loss: 0.2112 - val_accuracy: 0.9333\n",
            "Epoch 89/100\n",
            "4/4 [==============================] - 0s 23ms/step - loss: 0.0596 - accuracy: 0.9744 - val_loss: 0.1051 - val_accuracy: 0.9333\n",
            "Epoch 90/100\n",
            "4/4 [==============================] - 0s 26ms/step - loss: 0.0383 - accuracy: 0.9915 - val_loss: 0.1243 - val_accuracy: 0.9333\n",
            "Epoch 91/100\n",
            "4/4 [==============================] - 0s 25ms/step - loss: 0.1335 - accuracy: 0.9573 - val_loss: 0.0894 - val_accuracy: 0.9667\n",
            "Epoch 92/100\n",
            "4/4 [==============================] - 0s 29ms/step - loss: 0.0682 - accuracy: 0.9744 - val_loss: 0.0975 - val_accuracy: 0.9667\n",
            "Epoch 93/100\n",
            "4/4 [==============================] - 0s 22ms/step - loss: 0.0571 - accuracy: 0.9744 - val_loss: 0.1121 - val_accuracy: 0.9667\n",
            "Epoch 94/100\n",
            "4/4 [==============================] - 0s 22ms/step - loss: 0.0611 - accuracy: 0.9829 - val_loss: 0.1009 - val_accuracy: 0.9667\n",
            "Epoch 95/100\n",
            "4/4 [==============================] - 0s 21ms/step - loss: 0.0461 - accuracy: 0.9829 - val_loss: 0.3287 - val_accuracy: 0.9000\n",
            "Epoch 96/100\n",
            "4/4 [==============================] - 0s 23ms/step - loss: 0.1434 - accuracy: 0.9402 - val_loss: 0.1195 - val_accuracy: 0.9333\n",
            "Epoch 97/100\n",
            "4/4 [==============================] - 0s 31ms/step - loss: 0.0445 - accuracy: 0.9744 - val_loss: 0.1063 - val_accuracy: 0.9667\n",
            "Epoch 98/100\n",
            "4/4 [==============================] - 0s 28ms/step - loss: 0.0518 - accuracy: 0.9829 - val_loss: 0.2884 - val_accuracy: 0.9333\n",
            "Epoch 99/100\n",
            "4/4 [==============================] - 0s 23ms/step - loss: 0.0924 - accuracy: 0.9744 - val_loss: 0.1084 - val_accuracy: 0.9333\n",
            "Epoch 100/100\n",
            "4/4 [==============================] - 0s 27ms/step - loss: 0.0436 - accuracy: 0.9829 - val_loss: 0.1133 - val_accuracy: 0.9333\n"
          ]
        }
      ]
    },
    {
      "cell_type": "code",
      "source": [
        "#Print actual and predicted value\n",
        "\n",
        "y_pred = model.predict(X_valid)\n",
        "\n",
        "actual = np.argmax(y_valid, axis = 1)\n",
        "predicted = np.argmax(y_pred, axis = 1)\n",
        "\n",
        "print(f\"Actual:    {actual}\")\n",
        "print(f\"Predicted: {predicted}\")\n",
        "\n"
      ],
      "metadata": {
        "colab": {
          "base_uri": "https://localhost:8080/"
        },
        "id": "l0K-LJultjV-",
        "outputId": "e4dd5ff3-c1bb-4db9-d2d2-82e4d2d09384"
      },
      "execution_count": 21,
      "outputs": [
        {
          "output_type": "stream",
          "name": "stdout",
          "text": [
            "1/1 [==============================] - 0s 139ms/step\n",
            "Actual:    [2 1 2 0 2 0 1 0 1 0 0 1 2 1 2 1 0 1 2 0 0 2 0 2 1 0 1 2 1 0]\n",
            "Predicted: [2 1 2 0 2 0 1 0 2 0 0 1 2 1 2 2 0 1 2 0 0 2 0 2 1 0 1 2 1 0]\n"
          ]
        }
      ]
    }
  ]
}